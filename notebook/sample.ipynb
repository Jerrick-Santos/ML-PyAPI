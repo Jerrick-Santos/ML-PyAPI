{
 "cells": [
  {
   "cell_type": "code",
   "execution_count": 2,
   "id": "f3786635-630c-4e9e-8211-0c9ff72364a3",
   "metadata": {},
   "outputs": [],
   "source": [
    "import pandas as pd \n",
    "import numpy as np\n",
    "import matplotlib.pyplot as plt\n",
    "import json\n",
    "from statsmodels.tsa.api import ExponentialSmoothing, SimpleExpSmoothing, Holt\n",
    "import statsmodels.api as sm\n",
    "from statsmodels.graphics.tsaplots import plot_pacf\n",
    "from statsmodels.tsa.stattools import pacf\n",
    "from statsmodels.tsa.ar_model import AutoReg"
   ]
  },
  {
   "cell_type": "code",
   "execution_count": null,
   "id": "28c399c4-3e58-4a8b-b819-f68aa3b99051",
   "metadata": {},
   "outputs": [],
   "source": []
  },
  {
   "cell_type": "markdown",
   "id": "0d74fdc8-2a99-4aaf-9644-cd3f82ad69e2",
   "metadata": {},
   "source": [
    "# GET JSON OBJECT"
   ]
  },
  {
   "cell_type": "code",
   "execution_count": 3,
   "id": "952407a4-637a-4f4e-aa63-84386f06b951",
   "metadata": {},
   "outputs": [
    {
     "name": "stdout",
     "output_type": "stream",
     "text": [
      "67e3ccbc-1d7f-4af6-85c7-ef5e878a7adb\n",
      "eab5443a-b6a8-4369-893d-f03d2cbfc3bc\n",
      "ac4aa561-03e4-4a19-a43a-b3cf10ac024a\n",
      "46305cef-95f3-442b-9280-30535cd84125\n",
      "d0c7cc5e-33ee-427a-8448-43fde52e381d\n"
     ]
    }
   ],
   "source": [
    "# Opening JSON file\n",
    "f = open('./response4.json') #cHANGE DIRECTORY TO YOUR DIRECTORY\n",
    " \n",
    "# returns JSON object as \n",
    "# a dictionary\n",
    "data = json.load(f)\n",
    " \n",
    "# Iterating through the json\n",
    "# list\n",
    "for i in data['data']:\n",
    "    print(i)\n",
    " \n",
    "# Closing file\n",
    "f.close()"
   ]
  },
  {
   "cell_type": "markdown",
   "id": "39bc694d-84ec-4d3a-acb0-f5ab343e5c51",
   "metadata": {},
   "source": [
    "# Transform JSON into a DataFrame"
   ]
  },
  {
   "cell_type": "code",
   "execution_count": 5,
   "id": "4f342b8d-49d7-4b70-916a-556ae0ab12f8",
   "metadata": {},
   "outputs": [
    {
     "data": {
      "text/html": [
       "<div>\n",
       "<style scoped>\n",
       "    .dataframe tbody tr th:only-of-type {\n",
       "        vertical-align: middle;\n",
       "    }\n",
       "\n",
       "    .dataframe tbody tr th {\n",
       "        vertical-align: top;\n",
       "    }\n",
       "\n",
       "    .dataframe thead th {\n",
       "        text-align: right;\n",
       "    }\n",
       "</style>\n",
       "<table border=\"1\" class=\"dataframe\">\n",
       "  <thead>\n",
       "    <tr style=\"text-align: right;\">\n",
       "      <th></th>\n",
       "      <th>product_id</th>\n",
       "      <th>qty_ordered</th>\n",
       "    </tr>\n",
       "    <tr>\n",
       "      <th>date</th>\n",
       "      <th></th>\n",
       "      <th></th>\n",
       "    </tr>\n",
       "  </thead>\n",
       "  <tbody>\n",
       "    <tr>\n",
       "      <th>2023-09-26</th>\n",
       "      <td>46305cef-95f3-442b-9280-30535cd84125</td>\n",
       "      <td>17</td>\n",
       "    </tr>\n",
       "    <tr>\n",
       "      <th>2023-09-26</th>\n",
       "      <td>67e3ccbc-1d7f-4af6-85c7-ef5e878a7adb</td>\n",
       "      <td>21</td>\n",
       "    </tr>\n",
       "    <tr>\n",
       "      <th>2023-09-26</th>\n",
       "      <td>ac4aa561-03e4-4a19-a43a-b3cf10ac024a</td>\n",
       "      <td>86</td>\n",
       "    </tr>\n",
       "    <tr>\n",
       "      <th>2023-09-26</th>\n",
       "      <td>d0c7cc5e-33ee-427a-8448-43fde52e381d</td>\n",
       "      <td>17</td>\n",
       "    </tr>\n",
       "    <tr>\n",
       "      <th>2023-09-26</th>\n",
       "      <td>eab5443a-b6a8-4369-893d-f03d2cbfc3bc</td>\n",
       "      <td>111</td>\n",
       "    </tr>\n",
       "    <tr>\n",
       "      <th>...</th>\n",
       "      <td>...</td>\n",
       "      <td>...</td>\n",
       "    </tr>\n",
       "    <tr>\n",
       "      <th>2023-11-26</th>\n",
       "      <td>46305cef-95f3-442b-9280-30535cd84125</td>\n",
       "      <td>45</td>\n",
       "    </tr>\n",
       "    <tr>\n",
       "      <th>2023-11-26</th>\n",
       "      <td>67e3ccbc-1d7f-4af6-85c7-ef5e878a7adb</td>\n",
       "      <td>111</td>\n",
       "    </tr>\n",
       "    <tr>\n",
       "      <th>2023-11-26</th>\n",
       "      <td>ac4aa561-03e4-4a19-a43a-b3cf10ac024a</td>\n",
       "      <td>23</td>\n",
       "    </tr>\n",
       "    <tr>\n",
       "      <th>2023-11-26</th>\n",
       "      <td>d0c7cc5e-33ee-427a-8448-43fde52e381d</td>\n",
       "      <td>69</td>\n",
       "    </tr>\n",
       "    <tr>\n",
       "      <th>2023-11-26</th>\n",
       "      <td>eab5443a-b6a8-4369-893d-f03d2cbfc3bc</td>\n",
       "      <td>29</td>\n",
       "    </tr>\n",
       "  </tbody>\n",
       "</table>\n",
       "<p>310 rows × 2 columns</p>\n",
       "</div>"
      ],
      "text/plain": [
       "                                      product_id  qty_ordered\n",
       "date                                                         \n",
       "2023-09-26  46305cef-95f3-442b-9280-30535cd84125           17\n",
       "2023-09-26  67e3ccbc-1d7f-4af6-85c7-ef5e878a7adb           21\n",
       "2023-09-26  ac4aa561-03e4-4a19-a43a-b3cf10ac024a           86\n",
       "2023-09-26  d0c7cc5e-33ee-427a-8448-43fde52e381d           17\n",
       "2023-09-26  eab5443a-b6a8-4369-893d-f03d2cbfc3bc          111\n",
       "...                                          ...          ...\n",
       "2023-11-26  46305cef-95f3-442b-9280-30535cd84125           45\n",
       "2023-11-26  67e3ccbc-1d7f-4af6-85c7-ef5e878a7adb          111\n",
       "2023-11-26  ac4aa561-03e4-4a19-a43a-b3cf10ac024a           23\n",
       "2023-11-26  d0c7cc5e-33ee-427a-8448-43fde52e381d           69\n",
       "2023-11-26  eab5443a-b6a8-4369-893d-f03d2cbfc3bc           29\n",
       "\n",
       "[310 rows x 2 columns]"
      ]
     },
     "execution_count": 5,
     "metadata": {},
     "output_type": "execute_result"
    }
   ],
   "source": [
    "# Create an empty list to store extracted data\n",
    "formatted_data = []\n",
    "\n",
    "# Iterate through the data and extract information with product_id\n",
    "for product_id, entries in data['data'].items():\n",
    "    for entry in entries:\n",
    "        formatted_data.append({\n",
    "            'date': pd.to_datetime(entry['date']).strftime('%Y-%m-%d'),\n",
    "            'product_id': product_id,\n",
    "            'qty_ordered': entry['qty_ordered']\n",
    "        })\n",
    "\n",
    "# Create a DataFrame from the formatted data\n",
    "df = pd.DataFrame(formatted_data)\n",
    "\n",
    "# Convert 'date' column to datetime format\n",
    "df['date'] = pd.to_datetime(df['date'], errors='coerce')\n",
    "\n",
    "# Drop rows with invalid date formats, if any\n",
    "df = df.dropna(subset=['date'])\n",
    "\n",
    "# Set 'date' as index\n",
    "df.set_index('date', inplace=True)\n",
    "\n",
    "# df = df.resample('D').sum()\n",
    "# df = df.sort_index()\n",
    "df = df.groupby([df.index, 'product_id']).sum()\n",
    "df = df.reset_index(level='product_id')\n",
    "df"
   ]
  },
  {
   "cell_type": "markdown",
   "id": "aeb1dd99-33df-4629-a328-a6ec6d96aa51",
   "metadata": {},
   "source": [
    "# Create a Dataframe for EACH product_id"
   ]
  },
  {
   "cell_type": "code",
   "execution_count": 6,
   "id": "6efb7574-bbdb-49f4-a92d-d7b429d82824",
   "metadata": {},
   "outputs": [
    {
     "data": {
      "text/plain": [
       "5"
      ]
     },
     "execution_count": 6,
     "metadata": {},
     "output_type": "execute_result"
    }
   ],
   "source": [
    "# Set each product to a dataframe\n",
    "product_dfs = []\n",
    "sales_prediction = {}\n",
    "\n",
    "\n",
    "for each in pd.unique(df['product_id']):\n",
    "    sales_prediction[each] = 0\n",
    "    temp_df = df[df['product_id'] == each]\n",
    "    product_dfs.append(temp_df)\n",
    "\n",
    "len(product_dfs)"
   ]
  },
  {
   "cell_type": "code",
   "execution_count": 7,
   "id": "e6144e3e-6dd9-44bd-af85-a69a3c7f1172",
   "metadata": {},
   "outputs": [
    {
     "data": {
      "text/plain": [
       "[                                      product_id  qty_ordered\n",
       " date                                                         \n",
       " 2023-09-26  46305cef-95f3-442b-9280-30535cd84125           17\n",
       " 2023-09-27  46305cef-95f3-442b-9280-30535cd84125           95\n",
       " 2023-09-28  46305cef-95f3-442b-9280-30535cd84125           82\n",
       " 2023-09-29  46305cef-95f3-442b-9280-30535cd84125           28\n",
       " 2023-09-30  46305cef-95f3-442b-9280-30535cd84125           31\n",
       " ...                                          ...          ...\n",
       " 2023-11-22  46305cef-95f3-442b-9280-30535cd84125           32\n",
       " 2023-11-23  46305cef-95f3-442b-9280-30535cd84125          103\n",
       " 2023-11-24  46305cef-95f3-442b-9280-30535cd84125            8\n",
       " 2023-11-25  46305cef-95f3-442b-9280-30535cd84125           34\n",
       " 2023-11-26  46305cef-95f3-442b-9280-30535cd84125           45\n",
       " \n",
       " [62 rows x 2 columns],\n",
       "                                       product_id  qty_ordered\n",
       " date                                                         \n",
       " 2023-09-26  67e3ccbc-1d7f-4af6-85c7-ef5e878a7adb           21\n",
       " 2023-09-27  67e3ccbc-1d7f-4af6-85c7-ef5e878a7adb           22\n",
       " 2023-09-28  67e3ccbc-1d7f-4af6-85c7-ef5e878a7adb           54\n",
       " 2023-09-29  67e3ccbc-1d7f-4af6-85c7-ef5e878a7adb            2\n",
       " 2023-09-30  67e3ccbc-1d7f-4af6-85c7-ef5e878a7adb           83\n",
       " ...                                          ...          ...\n",
       " 2023-11-22  67e3ccbc-1d7f-4af6-85c7-ef5e878a7adb           15\n",
       " 2023-11-23  67e3ccbc-1d7f-4af6-85c7-ef5e878a7adb           82\n",
       " 2023-11-24  67e3ccbc-1d7f-4af6-85c7-ef5e878a7adb           49\n",
       " 2023-11-25  67e3ccbc-1d7f-4af6-85c7-ef5e878a7adb           27\n",
       " 2023-11-26  67e3ccbc-1d7f-4af6-85c7-ef5e878a7adb          111\n",
       " \n",
       " [62 rows x 2 columns],\n",
       "                                       product_id  qty_ordered\n",
       " date                                                         \n",
       " 2023-09-26  ac4aa561-03e4-4a19-a43a-b3cf10ac024a           86\n",
       " 2023-09-27  ac4aa561-03e4-4a19-a43a-b3cf10ac024a           28\n",
       " 2023-09-28  ac4aa561-03e4-4a19-a43a-b3cf10ac024a           23\n",
       " 2023-09-29  ac4aa561-03e4-4a19-a43a-b3cf10ac024a          108\n",
       " 2023-09-30  ac4aa561-03e4-4a19-a43a-b3cf10ac024a           91\n",
       " ...                                          ...          ...\n",
       " 2023-11-22  ac4aa561-03e4-4a19-a43a-b3cf10ac024a            6\n",
       " 2023-11-23  ac4aa561-03e4-4a19-a43a-b3cf10ac024a           92\n",
       " 2023-11-24  ac4aa561-03e4-4a19-a43a-b3cf10ac024a           47\n",
       " 2023-11-25  ac4aa561-03e4-4a19-a43a-b3cf10ac024a           77\n",
       " 2023-11-26  ac4aa561-03e4-4a19-a43a-b3cf10ac024a           23\n",
       " \n",
       " [62 rows x 2 columns],\n",
       "                                       product_id  qty_ordered\n",
       " date                                                         \n",
       " 2023-09-26  d0c7cc5e-33ee-427a-8448-43fde52e381d           17\n",
       " 2023-09-27  d0c7cc5e-33ee-427a-8448-43fde52e381d           29\n",
       " 2023-09-28  d0c7cc5e-33ee-427a-8448-43fde52e381d           46\n",
       " 2023-09-29  d0c7cc5e-33ee-427a-8448-43fde52e381d           48\n",
       " 2023-09-30  d0c7cc5e-33ee-427a-8448-43fde52e381d           51\n",
       " ...                                          ...          ...\n",
       " 2023-11-22  d0c7cc5e-33ee-427a-8448-43fde52e381d           15\n",
       " 2023-11-23  d0c7cc5e-33ee-427a-8448-43fde52e381d            5\n",
       " 2023-11-24  d0c7cc5e-33ee-427a-8448-43fde52e381d           83\n",
       " 2023-11-25  d0c7cc5e-33ee-427a-8448-43fde52e381d           26\n",
       " 2023-11-26  d0c7cc5e-33ee-427a-8448-43fde52e381d           69\n",
       " \n",
       " [62 rows x 2 columns],\n",
       "                                       product_id  qty_ordered\n",
       " date                                                         \n",
       " 2023-09-26  eab5443a-b6a8-4369-893d-f03d2cbfc3bc          111\n",
       " 2023-09-27  eab5443a-b6a8-4369-893d-f03d2cbfc3bc           67\n",
       " 2023-09-28  eab5443a-b6a8-4369-893d-f03d2cbfc3bc           97\n",
       " 2023-09-29  eab5443a-b6a8-4369-893d-f03d2cbfc3bc          116\n",
       " 2023-09-30  eab5443a-b6a8-4369-893d-f03d2cbfc3bc           45\n",
       " ...                                          ...          ...\n",
       " 2023-11-22  eab5443a-b6a8-4369-893d-f03d2cbfc3bc           79\n",
       " 2023-11-23  eab5443a-b6a8-4369-893d-f03d2cbfc3bc           82\n",
       " 2023-11-24  eab5443a-b6a8-4369-893d-f03d2cbfc3bc           67\n",
       " 2023-11-25  eab5443a-b6a8-4369-893d-f03d2cbfc3bc           24\n",
       " 2023-11-26  eab5443a-b6a8-4369-893d-f03d2cbfc3bc           29\n",
       " \n",
       " [62 rows x 2 columns]]"
      ]
     },
     "execution_count": 7,
     "metadata": {},
     "output_type": "execute_result"
    }
   ],
   "source": [
    "product_dfs"
   ]
  },
  {
   "cell_type": "code",
   "execution_count": 6,
   "id": "4fbebcdb-cf87-4b31-95ec-809565938e20",
   "metadata": {},
   "outputs": [
    {
     "name": "stderr",
     "output_type": "stream",
     "text": [
      "C:\\Users\\Raymond\\AppData\\Local\\Temp\\ipykernel_20904\\314270208.py:2: FutureWarning: The default value of numeric_only in DataFrameGroupBy.sum is deprecated. In a future version, numeric_only will default to False. Either specify numeric_only or select only columns which should be valid for the function.\n",
      "  product_dfs[0] = product_dfs[0].resample('D').sum()\n"
     ]
    },
    {
     "ename": "IndexError",
     "evalue": "list index out of range",
     "output_type": "error",
     "traceback": [
      "\u001b[1;31m---------------------------------------------------------------------------\u001b[0m",
      "\u001b[1;31mIndexError\u001b[0m                                Traceback (most recent call last)",
      "\u001b[1;32me:\\Raymond\\Programming\\ML-PyAPI\\notebook\\sample (1).ipynb Cell 10\u001b[0m line \u001b[0;36m3\n\u001b[0;32m      <a href='vscode-notebook-cell:/e%3A/Raymond/Programming/ML-PyAPI/notebook/sample%20%281%29.ipynb#X12sZmlsZQ%3D%3D?line=0'>1</a>\u001b[0m \u001b[39m# TESTING PUROPOSES ONLY\u001b[39;00m\n\u001b[0;32m      <a href='vscode-notebook-cell:/e%3A/Raymond/Programming/ML-PyAPI/notebook/sample%20%281%29.ipynb#X12sZmlsZQ%3D%3D?line=1'>2</a>\u001b[0m product_dfs[\u001b[39m0\u001b[39m] \u001b[39m=\u001b[39m product_dfs[\u001b[39m0\u001b[39m]\u001b[39m.\u001b[39mresample(\u001b[39m'\u001b[39m\u001b[39mD\u001b[39m\u001b[39m'\u001b[39m)\u001b[39m.\u001b[39msum()\n\u001b[1;32m----> <a href='vscode-notebook-cell:/e%3A/Raymond/Programming/ML-PyAPI/notebook/sample%20%281%29.ipynb#X12sZmlsZQ%3D%3D?line=2'>3</a>\u001b[0m \u001b[39mlen\u001b[39m(product_dfs[\u001b[39m8\u001b[39m])\n",
      "\u001b[1;31mIndexError\u001b[0m: list index out of range"
     ]
    }
   ],
   "source": [
    "# TESTING PUROPOSES ONLY\n",
    "product_dfs[0] = product_dfs[0].resample('D').sum()\n",
    "len(product_dfs[8])"
   ]
  },
  {
   "cell_type": "markdown",
   "id": "1bddc5c9-2879-4ca8-860d-d2512d611d5e",
   "metadata": {},
   "source": [
    "# Model Implementation"
   ]
  },
  {
   "cell_type": "code",
   "execution_count": 9,
   "id": "29ac896e-571d-462b-ba00-8c1c7d10cdd7",
   "metadata": {},
   "outputs": [
    {
     "ename": "NameError",
     "evalue": "name 'test' is not defined",
     "output_type": "error",
     "traceback": [
      "\u001b[1;31m---------------------------------------------------------------------------\u001b[0m",
      "\u001b[1;31mNameError\u001b[0m                                 Traceback (most recent call last)",
      "\u001b[1;32me:\\Raymond\\Programming\\ML-PyAPI\\notebook\\sample (1).ipynb Cell 12\u001b[0m line \u001b[0;36m2\n\u001b[0;32m      <a href='vscode-notebook-cell:/e%3A/Raymond/Programming/ML-PyAPI/notebook/sample%20%281%29.ipynb#X14sZmlsZQ%3D%3D?line=0'>1</a>\u001b[0m \u001b[39m# Implementing SES\u001b[39;00m\n\u001b[1;32m----> <a href='vscode-notebook-cell:/e%3A/Raymond/Programming/ML-PyAPI/notebook/sample%20%281%29.ipynb#X14sZmlsZQ%3D%3D?line=1'>2</a>\u001b[0m temp_df \u001b[39m=\u001b[39m test[[\u001b[39m'\u001b[39m\u001b[39mqty_ordered\u001b[39m\u001b[39m'\u001b[39m]]\u001b[39m.\u001b[39mcopy()\n\u001b[0;32m      <a href='vscode-notebook-cell:/e%3A/Raymond/Programming/ML-PyAPI/notebook/sample%20%281%29.ipynb#X14sZmlsZQ%3D%3D?line=3'>4</a>\u001b[0m ses_initialize \u001b[39m=\u001b[39m SimpleExpSmoothing(temp_df[\u001b[39m'\u001b[39m\u001b[39mqty_ordered\u001b[39m\u001b[39m'\u001b[39m])\n\u001b[0;32m      <a href='vscode-notebook-cell:/e%3A/Raymond/Programming/ML-PyAPI/notebook/sample%20%281%29.ipynb#X14sZmlsZQ%3D%3D?line=4'>5</a>\u001b[0m ses_model \u001b[39m=\u001b[39m ses_initialize\u001b[39m.\u001b[39mfit(optimized \u001b[39m=\u001b[39m \u001b[39mTrue\u001b[39;00m)\n",
      "\u001b[1;31mNameError\u001b[0m: name 'test' is not defined"
     ]
    }
   ],
   "source": [
    "# Implementing SES\n",
    "temp_df = test[['qty_ordered']].copy()\n",
    "\n",
    "ses_initialize = SimpleExpSmoothing(temp_df['qty_ordered'])\n",
    "ses_model = ses_initialize.fit(optimized = True)\n",
    "\n",
    "# Predict the next day's sales\n",
    "forecast_next_day = ses_model.forecast(steps=1)\n",
    "# Extract just the predicted value as a float\n",
    "predicted_value = float(forecast_next_day.values[0])\n",
    "\n",
    "print(\"Forecasted sales for the next day:\", predicted_value)"
   ]
  },
  {
   "cell_type": "markdown",
   "id": "3a220b83-6f66-4ed3-acf1-13a8886008a8",
   "metadata": {},
   "source": [
    "# Simple Exponential Smoothing (SES)"
   ]
  },
  {
   "cell_type": "code",
   "execution_count": 8,
   "id": "b2ea90e6-4fbf-4aca-b96a-9c8ba66301ee",
   "metadata": {},
   "outputs": [
    {
     "name": "stdout",
     "output_type": "stream",
     "text": [
      "46305cef-95f3-442b-9280-30535cd84125\n",
      "Forecasted sales for the next day: 53\n",
      "67e3ccbc-1d7f-4af6-85c7-ef5e878a7adb\n",
      "Forecasted sales for the next day: 59\n",
      "ac4aa561-03e4-4a19-a43a-b3cf10ac024a\n",
      "Forecasted sales for the next day: 50\n",
      "d0c7cc5e-33ee-427a-8448-43fde52e381d\n",
      "Forecasted sales for the next day: 49\n",
      "eab5443a-b6a8-4369-893d-f03d2cbfc3bc\n",
      "Forecasted sales for the next day: 47\n"
     ]
    },
    {
     "name": "stderr",
     "output_type": "stream",
     "text": [
      "c:\\Users\\Raymond\\anaconda3\\Lib\\site-packages\\statsmodels\\tsa\\base\\tsa_model.py:473: ValueWarning: No frequency information was provided, so inferred frequency D will be used.\n",
      "  self._init_dates(dates, freq)\n",
      "c:\\Users\\Raymond\\anaconda3\\Lib\\site-packages\\statsmodels\\tsa\\base\\tsa_model.py:473: ValueWarning: No frequency information was provided, so inferred frequency D will be used.\n",
      "  self._init_dates(dates, freq)\n",
      "c:\\Users\\Raymond\\anaconda3\\Lib\\site-packages\\statsmodels\\tsa\\base\\tsa_model.py:473: ValueWarning: No frequency information was provided, so inferred frequency D will be used.\n",
      "  self._init_dates(dates, freq)\n",
      "c:\\Users\\Raymond\\anaconda3\\Lib\\site-packages\\statsmodels\\tsa\\base\\tsa_model.py:473: ValueWarning: No frequency information was provided, so inferred frequency D will be used.\n",
      "  self._init_dates(dates, freq)\n",
      "c:\\Users\\Raymond\\anaconda3\\Lib\\site-packages\\statsmodels\\tsa\\base\\tsa_model.py:473: ValueWarning: No frequency information was provided, so inferred frequency D will be used.\n",
      "  self._init_dates(dates, freq)\n"
     ]
    },
    {
     "data": {
      "text/plain": [
       "{'46305cef-95f3-442b-9280-30535cd84125': 53,\n",
       " '67e3ccbc-1d7f-4af6-85c7-ef5e878a7adb': 59,\n",
       " 'ac4aa561-03e4-4a19-a43a-b3cf10ac024a': 50,\n",
       " 'd0c7cc5e-33ee-427a-8448-43fde52e381d': 49,\n",
       " 'eab5443a-b6a8-4369-893d-f03d2cbfc3bc': 47}"
      ]
     },
     "execution_count": 8,
     "metadata": {},
     "output_type": "execute_result"
    }
   ],
   "source": [
    "for each in product_dfs:\n",
    "    # Implementing SES\n",
    "    if len(each) > 2:\n",
    "        current_product = each['product_id'].iloc[0]\n",
    "        print(current_product)\n",
    "        temp_df = each[['qty_ordered']].copy()\n",
    "\n",
    "        ses_initialize = SimpleExpSmoothing(temp_df['qty_ordered'])\n",
    "        ses_model = ses_initialize.fit(optimized = True)\n",
    "\n",
    "        # Predict the next day's sales\n",
    "        forecast_next_day = ses_model.forecast(steps=1)\n",
    "\n",
    "        # Extract just the predicted value as a int\n",
    "        predicted_value = int(forecast_next_day.values[0])\n",
    "\n",
    "        print(\"Forecasted sales for the next day:\", predicted_value)\n",
    "        sales_prediction[current_product] = predicted_value\n",
    "\n",
    "sales_prediction\n",
    "    "
   ]
  },
  {
   "cell_type": "markdown",
   "id": "c877a37c-7cc4-4383-8e7f-21f63034edaa",
   "metadata": {},
   "source": [
    "# Auto-Regression (AR) Implementation"
   ]
  },
  {
   "cell_type": "code",
   "execution_count": 11,
   "id": "3daabee2-c3a8-4c18-9b74-51bf7f28e808",
   "metadata": {},
   "outputs": [
    {
     "data": {
      "image/png": "[encoded data removed]",
      "text/plain": [
       "<Figure size 640x480 with 1 Axes>"
      ]
     },
     "metadata": {},
     "output_type": "display_data"
    }
   ],
   "source": [
    "# PACF TESTING: TESTING PURPOSES ONLY\n",
    "# product_dfs[0]['qty_ordered']\n",
    "pacf_values=plot_pacf(product_dfs[0]['qty_ordered'], lags=15, alpha=0.05)"
   ]
  },
  {
   "cell_type": "code",
   "execution_count": 12,
   "id": "5214ec43-da91-4229-b544-41cff1333946",
   "metadata": {},
   "outputs": [
    {
     "data": {
      "text/plain": [
       "array([ 1.00000000e+00, -1.00758206e-01, -1.65436985e-01,  1.93536847e-01,\n",
       "       -1.08327660e-01,  3.53274399e-02, -1.72927933e-01, -3.68983731e-04,\n",
       "       -2.72243980e-01,  4.03197715e-02,  8.34200772e-02])"
      ]
     },
     "execution_count": 12,
     "metadata": {},
     "output_type": "execute_result"
    }
   ],
   "source": [
    "pacf, pvalues = sm.tsa.pacf(product_dfs[1]['qty_ordered'], nlags=10, alpha=0.05)\n",
    "pacf"
   ]
  },
  {
   "cell_type": "code",
   "execution_count": 13,
   "id": "9adcf87b-4d77-4cbe-90cf-66edd3967c8c",
   "metadata": {},
   "outputs": [
    {
     "name": "stdout",
     "output_type": "stream",
     "text": [
      "8\n"
     ]
    }
   ],
   "source": [
    "def get_lagged_value(arr):\n",
    "    highest_positive = 0\n",
    "    h_index = 0\n",
    "    lowest_negative = 0\n",
    "    l_index = 0\n",
    "    \n",
    "    lags = 0\n",
    "    for i in range(1, len(arr)):\n",
    "        if arr[i] > 0.25 and arr[i] > highest_positive:\n",
    "            h_index = i\n",
    "            highest_positive = arr[i] \n",
    "        elif arr[i] < -0.25 and arr[i] < lowest_negative:\n",
    "            l_index = i \n",
    "            lowest_negative = arr[i] \n",
    "    \n",
    "    if highest_positive == 0 and lowest_negative == 0:\n",
    "        lags = 1\n",
    "    elif lowest_negative == 0 and highest_positive != 0:\n",
    "        lags = h_index\n",
    "    elif highest_positive == 0 and lowest_negative != 0:\n",
    "        lags = l_index\n",
    "    elif highest_positive - 0.25 > ((lowest_negative - (-0.25)) * -1):\n",
    "        lags = h_index\n",
    "    elif highest_positive - 0.25 < ((lowest_negative - (-0.25)) * -1):\n",
    "        lags = l_index\n",
    "    else: \n",
    "        lags = 1\n",
    "        \n",
    "    return lags\n",
    "\n",
    "# Example usage (assuming 'pacf' is defined elsewhere)\n",
    "result = get_lagged_value(pacf)\n",
    "print(result)"
   ]
  },
  {
   "cell_type": "code",
   "execution_count": 14,
   "id": "16c575bd-c9cc-49c4-bb46-c74ed77256e9",
   "metadata": {},
   "outputs": [
    {
     "name": "stdout",
     "output_type": "stream",
     "text": [
      "Predicted value for the next timestamp: 2023-11-27    59.905175\n",
      "Freq: D, dtype: float64\n"
     ]
    },
    {
     "name": "stderr",
     "output_type": "stream",
     "text": [
      "c:\\Users\\Raymond\\anaconda3\\Lib\\site-packages\\statsmodels\\tsa\\base\\tsa_model.py:473: ValueWarning: No frequency information was provided, so inferred frequency D will be used.\n",
      "  self._init_dates(dates, freq)\n",
      "c:\\Users\\Raymond\\anaconda3\\Lib\\site-packages\\statsmodels\\tsa\\deterministic.py:302: UserWarning: Only PeriodIndexes, DatetimeIndexes with a frequency set, RangesIndexes, and Index with a unit increment support extending. The index is set will contain the position relative to the data length.\n",
      "  fcast_index = self._extend_index(index, steps, forecast_index)\n"
     ]
    }
   ],
   "source": [
    "# AR TESTING: FOR TESTING PURPOSES ONLY\n",
    "model = AutoReg(product_dfs[0]['qty_ordered'], lags=1).fit()\n",
    "# Predict the next timestamp\n",
    "prediction = model.predict(start=len(product_dfs[0]['qty_ordered']), end=len(product_dfs[0]['qty_ordered']), dynamic=False)\n",
    "\n",
    "print(\"Predicted value for the next timestamp:\", prediction)"
   ]
  },
  {
   "cell_type": "code",
   "execution_count": 15,
   "id": "c114059d-1ed5-47e1-8e87-93eeec296cfb",
   "metadata": {},
   "outputs": [
    {
     "name": "stdout",
     "output_type": "stream",
     "text": [
      "46305cef-95f3-442b-9280-30535cd84125\n",
      "Forecasted sales for the next day: 59\n",
      "67e3ccbc-1d7f-4af6-85c7-ef5e878a7adb\n",
      "Forecasted sales for the next day: 31\n",
      "ac4aa561-03e4-4a19-a43a-b3cf10ac024a\n",
      "Forecasted sales for the next day: 61\n",
      "d0c7cc5e-33ee-427a-8448-43fde52e381d\n",
      "Forecasted sales for the next day: 93\n",
      "eab5443a-b6a8-4369-893d-f03d2cbfc3bc\n",
      "Forecasted sales for the next day: 54\n"
     ]
    },
    {
     "name": "stderr",
     "output_type": "stream",
     "text": [
      "c:\\Users\\Raymond\\anaconda3\\Lib\\site-packages\\statsmodels\\tsa\\base\\tsa_model.py:473: ValueWarning: No frequency information was provided, so inferred frequency D will be used.\n",
      "  self._init_dates(dates, freq)\n",
      "c:\\Users\\Raymond\\anaconda3\\Lib\\site-packages\\statsmodels\\tsa\\deterministic.py:302: UserWarning: Only PeriodIndexes, DatetimeIndexes with a frequency set, RangesIndexes, and Index with a unit increment support extending. The index is set will contain the position relative to the data length.\n",
      "  fcast_index = self._extend_index(index, steps, forecast_index)\n",
      "c:\\Users\\Raymond\\anaconda3\\Lib\\site-packages\\statsmodels\\tsa\\base\\tsa_model.py:473: ValueWarning: No frequency information was provided, so inferred frequency D will be used.\n",
      "  self._init_dates(dates, freq)\n",
      "c:\\Users\\Raymond\\anaconda3\\Lib\\site-packages\\statsmodels\\tsa\\deterministic.py:302: UserWarning: Only PeriodIndexes, DatetimeIndexes with a frequency set, RangesIndexes, and Index with a unit increment support extending. The index is set will contain the position relative to the data length.\n",
      "  fcast_index = self._extend_index(index, steps, forecast_index)\n",
      "c:\\Users\\Raymond\\anaconda3\\Lib\\site-packages\\statsmodels\\tsa\\base\\tsa_model.py:473: ValueWarning: No frequency information was provided, so inferred frequency D will be used.\n",
      "  self._init_dates(dates, freq)\n",
      "c:\\Users\\Raymond\\anaconda3\\Lib\\site-packages\\statsmodels\\tsa\\deterministic.py:302: UserWarning: Only PeriodIndexes, DatetimeIndexes with a frequency set, RangesIndexes, and Index with a unit increment support extending. The index is set will contain the position relative to the data length.\n",
      "  fcast_index = self._extend_index(index, steps, forecast_index)\n",
      "c:\\Users\\Raymond\\anaconda3\\Lib\\site-packages\\statsmodels\\tsa\\base\\tsa_model.py:473: ValueWarning: No frequency information was provided, so inferred frequency D will be used.\n",
      "  self._init_dates(dates, freq)\n",
      "c:\\Users\\Raymond\\anaconda3\\Lib\\site-packages\\statsmodels\\tsa\\deterministic.py:302: UserWarning: Only PeriodIndexes, DatetimeIndexes with a frequency set, RangesIndexes, and Index with a unit increment support extending. The index is set will contain the position relative to the data length.\n",
      "  fcast_index = self._extend_index(index, steps, forecast_index)\n",
      "c:\\Users\\Raymond\\anaconda3\\Lib\\site-packages\\statsmodels\\tsa\\base\\tsa_model.py:473: ValueWarning: No frequency information was provided, so inferred frequency D will be used.\n",
      "  self._init_dates(dates, freq)\n",
      "c:\\Users\\Raymond\\anaconda3\\Lib\\site-packages\\statsmodels\\tsa\\deterministic.py:302: UserWarning: Only PeriodIndexes, DatetimeIndexes with a frequency set, RangesIndexes, and Index with a unit increment support extending. The index is set will contain the position relative to the data length.\n",
      "  fcast_index = self._extend_index(index, steps, forecast_index)\n"
     ]
    },
    {
     "data": {
      "text/plain": [
       "{'46305cef-95f3-442b-9280-30535cd84125': 59,\n",
       " '67e3ccbc-1d7f-4af6-85c7-ef5e878a7adb': 31,\n",
       " 'ac4aa561-03e4-4a19-a43a-b3cf10ac024a': 61,\n",
       " 'd0c7cc5e-33ee-427a-8448-43fde52e381d': 93,\n",
       " 'eab5443a-b6a8-4369-893d-f03d2cbfc3bc': 54}"
      ]
     },
     "execution_count": 15,
     "metadata": {},
     "output_type": "execute_result"
    }
   ],
   "source": [
    "for each in product_dfs:\n",
    "    # AutoRegression Implementation\n",
    "    if len(each) >= 10:\n",
    "        current_product = each['product_id'].iloc[0]\n",
    "        print(current_product)\n",
    "        temp_df = each[['qty_ordered']].copy()\n",
    "        \n",
    "        #Get PACF\n",
    "        pacf, pvalues = sm.tsa.pacf(temp_df['qty_ordered'], nlags=10, alpha=0.05)\n",
    "        lags = get_lagged_value(pacf)\n",
    "        autoreg_model = AutoReg(temp_df['qty_ordered'], lags=lags).fit()\n",
    "\n",
    "        # Predict the next day's sales\n",
    "        forecast_next_day = autoreg_model.predict(start=len(temp_df['qty_ordered']), end=len(temp_df['qty_ordered']), dynamic=False)\n",
    "\n",
    "        # Extract just the predicted value as a int\n",
    "        predicted_value = int(forecast_next_day.values[0])\n",
    "\n",
    "        print(\"Forecasted sales for the next day:\", predicted_value)\n",
    "        sales_prediction[current_product] = predicted_value\n",
    "\n",
    "sales_prediction\n",
    "    "
   ]
  },
  {
   "cell_type": "markdown",
   "id": "07adb775-9aa1-4666-acb2-81cefafe9b48",
   "metadata": {},
   "source": [
    "# ARMA Implementation"
   ]
  },
  {
   "cell_type": "code",
   "execution_count": 16,
   "id": "56784a58-b214-4161-a4df-354ba3ad1937",
   "metadata": {},
   "outputs": [
    {
     "name": "stdout",
     "output_type": "stream",
     "text": [
      "46305cef-95f3-442b-9280-30535cd84125\n"
     ]
    },
    {
     "name": "stderr",
     "output_type": "stream",
     "text": [
      "c:\\Users\\Raymond\\anaconda3\\Lib\\site-packages\\statsmodels\\tsa\\base\\tsa_model.py:473: ValueWarning: No frequency information was provided, so inferred frequency D will be used.\n",
      "  self._init_dates(dates, freq)\n",
      "c:\\Users\\Raymond\\anaconda3\\Lib\\site-packages\\statsmodels\\tsa\\base\\tsa_model.py:473: ValueWarning: No frequency information was provided, so inferred frequency D will be used.\n",
      "  self._init_dates(dates, freq)\n",
      "c:\\Users\\Raymond\\anaconda3\\Lib\\site-packages\\statsmodels\\tsa\\base\\tsa_model.py:473: ValueWarning: No frequency information was provided, so inferred frequency D will be used.\n",
      "  self._init_dates(dates, freq)\n",
      "c:\\Users\\Raymond\\anaconda3\\Lib\\site-packages\\statsmodels\\tsa\\statespace\\sarimax.py:966: UserWarning: Non-stationary starting autoregressive parameters found. Using zeros as starting parameters.\n",
      "  warn('Non-stationary starting autoregressive parameters'\n",
      "c:\\Users\\Raymond\\anaconda3\\Lib\\site-packages\\statsmodels\\tsa\\statespace\\sarimax.py:978: UserWarning: Non-invertible starting MA parameters found. Using zeros as starting parameters.\n",
      "  warn('Non-invertible starting MA parameters found.'\n"
     ]
    },
    {
     "name": "stdout",
     "output_type": "stream",
     "text": [
      "Forecasted sales for the next day: 69\n",
      "67e3ccbc-1d7f-4af6-85c7-ef5e878a7adb\n"
     ]
    },
    {
     "name": "stderr",
     "output_type": "stream",
     "text": [
      "c:\\Users\\Raymond\\anaconda3\\Lib\\site-packages\\statsmodels\\tsa\\base\\tsa_model.py:473: ValueWarning: No frequency information was provided, so inferred frequency D will be used.\n",
      "  self._init_dates(dates, freq)\n",
      "c:\\Users\\Raymond\\anaconda3\\Lib\\site-packages\\statsmodels\\tsa\\base\\tsa_model.py:473: ValueWarning: No frequency information was provided, so inferred frequency D will be used.\n",
      "  self._init_dates(dates, freq)\n",
      "c:\\Users\\Raymond\\anaconda3\\Lib\\site-packages\\statsmodels\\tsa\\base\\tsa_model.py:473: ValueWarning: No frequency information was provided, so inferred frequency D will be used.\n",
      "  self._init_dates(dates, freq)\n"
     ]
    },
    {
     "name": "stdout",
     "output_type": "stream",
     "text": [
      "Forecasted sales for the next day: 34\n",
      "ac4aa561-03e4-4a19-a43a-b3cf10ac024a\n"
     ]
    },
    {
     "name": "stderr",
     "output_type": "stream",
     "text": [
      "c:\\Users\\Raymond\\anaconda3\\Lib\\site-packages\\statsmodels\\tsa\\base\\tsa_model.py:473: ValueWarning: No frequency information was provided, so inferred frequency D will be used.\n",
      "  self._init_dates(dates, freq)\n",
      "c:\\Users\\Raymond\\anaconda3\\Lib\\site-packages\\statsmodels\\tsa\\base\\tsa_model.py:473: ValueWarning: No frequency information was provided, so inferred frequency D will be used.\n",
      "  self._init_dates(dates, freq)\n",
      "c:\\Users\\Raymond\\anaconda3\\Lib\\site-packages\\statsmodels\\tsa\\base\\tsa_model.py:473: ValueWarning: No frequency information was provided, so inferred frequency D will be used.\n",
      "  self._init_dates(dates, freq)\n",
      "c:\\Users\\Raymond\\anaconda3\\Lib\\site-packages\\statsmodels\\tsa\\statespace\\sarimax.py:966: UserWarning: Non-stationary starting autoregressive parameters found. Using zeros as starting parameters.\n",
      "  warn('Non-stationary starting autoregressive parameters'\n",
      "c:\\Users\\Raymond\\anaconda3\\Lib\\site-packages\\statsmodels\\tsa\\statespace\\sarimax.py:978: UserWarning: Non-invertible starting MA parameters found. Using zeros as starting parameters.\n",
      "  warn('Non-invertible starting MA parameters found.'\n",
      "c:\\Users\\Raymond\\anaconda3\\Lib\\site-packages\\statsmodels\\base\\model.py:607: ConvergenceWarning: Maximum Likelihood optimization failed to converge. Check mle_retvals\n",
      "  warnings.warn(\"Maximum Likelihood optimization failed to \"\n",
      "c:\\Users\\Raymond\\anaconda3\\Lib\\site-packages\\statsmodels\\tsa\\base\\tsa_model.py:473: ValueWarning: No frequency information was provided, so inferred frequency D will be used.\n",
      "  self._init_dates(dates, freq)\n",
      "c:\\Users\\Raymond\\anaconda3\\Lib\\site-packages\\statsmodels\\tsa\\base\\tsa_model.py:473: ValueWarning: No frequency information was provided, so inferred frequency D will be used.\n",
      "  self._init_dates(dates, freq)\n",
      "c:\\Users\\Raymond\\anaconda3\\Lib\\site-packages\\statsmodels\\tsa\\base\\tsa_model.py:473: ValueWarning: No frequency information was provided, so inferred frequency D will be used.\n",
      "  self._init_dates(dates, freq)\n",
      "c:\\Users\\Raymond\\anaconda3\\Lib\\site-packages\\statsmodels\\tsa\\statespace\\sarimax.py:978: UserWarning: Non-invertible starting MA parameters found. Using zeros as starting parameters.\n",
      "  warn('Non-invertible starting MA parameters found.'\n"
     ]
    },
    {
     "name": "stdout",
     "output_type": "stream",
     "text": [
      "Forecasted sales for the next day: 61\n",
      "d0c7cc5e-33ee-427a-8448-43fde52e381d\n"
     ]
    },
    {
     "name": "stderr",
     "output_type": "stream",
     "text": [
      "c:\\Users\\Raymond\\anaconda3\\Lib\\site-packages\\statsmodels\\base\\model.py:607: ConvergenceWarning: Maximum Likelihood optimization failed to converge. Check mle_retvals\n",
      "  warnings.warn(\"Maximum Likelihood optimization failed to \"\n",
      "c:\\Users\\Raymond\\anaconda3\\Lib\\site-packages\\statsmodels\\tsa\\base\\tsa_model.py:473: ValueWarning: No frequency information was provided, so inferred frequency D will be used.\n",
      "  self._init_dates(dates, freq)\n",
      "c:\\Users\\Raymond\\anaconda3\\Lib\\site-packages\\statsmodels\\tsa\\base\\tsa_model.py:473: ValueWarning: No frequency information was provided, so inferred frequency D will be used.\n",
      "  self._init_dates(dates, freq)\n",
      "c:\\Users\\Raymond\\anaconda3\\Lib\\site-packages\\statsmodels\\tsa\\base\\tsa_model.py:473: ValueWarning: No frequency information was provided, so inferred frequency D will be used.\n",
      "  self._init_dates(dates, freq)\n",
      "c:\\Users\\Raymond\\anaconda3\\Lib\\site-packages\\statsmodels\\tsa\\statespace\\sarimax.py:978: UserWarning: Non-invertible starting MA parameters found. Using zeros as starting parameters.\n",
      "  warn('Non-invertible starting MA parameters found.'\n"
     ]
    },
    {
     "name": "stdout",
     "output_type": "stream",
     "text": [
      "Forecasted sales for the next day: 97\n",
      "eab5443a-b6a8-4369-893d-f03d2cbfc3bc\n",
      "Forecasted sales for the next day: 64\n"
     ]
    },
    {
     "name": "stderr",
     "output_type": "stream",
     "text": [
      "c:\\Users\\Raymond\\anaconda3\\Lib\\site-packages\\statsmodels\\base\\model.py:607: ConvergenceWarning: Maximum Likelihood optimization failed to converge. Check mle_retvals\n",
      "  warnings.warn(\"Maximum Likelihood optimization failed to \"\n"
     ]
    },
    {
     "data": {
      "text/plain": [
       "{'46305cef-95f3-442b-9280-30535cd84125': 69,\n",
       " '67e3ccbc-1d7f-4af6-85c7-ef5e878a7adb': 34,\n",
       " 'ac4aa561-03e4-4a19-a43a-b3cf10ac024a': 61,\n",
       " 'd0c7cc5e-33ee-427a-8448-43fde52e381d': 97,\n",
       " 'eab5443a-b6a8-4369-893d-f03d2cbfc3bc': 64}"
      ]
     },
     "execution_count": 16,
     "metadata": {},
     "output_type": "execute_result"
    }
   ],
   "source": [
    "for each in product_dfs:\n",
    "    # ARMA Implementation\n",
    "    if len(each) >= 10:\n",
    "        current_product = each['product_id'].iloc[0]\n",
    "        print(current_product)\n",
    "        temp_df = each[['qty_ordered']].copy()\n",
    "        \n",
    "        #Get PACF for AR Component\n",
    "        pacf, pvalues = sm.tsa.pacf(temp_df['qty_ordered'], nlags=10, alpha=0.05)\n",
    "        ar_lags = get_lagged_value(pacf)\n",
    "        \n",
    "        #Get ACF for MA Component\n",
    "        acf, pvalues = sm.tsa.acf(temp_df['qty_ordered'], nlags=10, alpha=0.05)\n",
    "        ma_lags = get_lagged_value(acf)\n",
    "        \n",
    "        ARMA_model = sm.tsa.arima.ARIMA(temp_df['qty_ordered'], order=(ar_lags, 0, ma_lags)).fit()\n",
    "\n",
    "        # Predict the next day's sales\n",
    "        forecast_next_day = ARMA_model.predict(start=len(temp_df['qty_ordered']), end=len(temp_df['qty_ordered']))\n",
    "\n",
    "        # Extract just the predicted value as a int\n",
    "        predicted_value = int(forecast_next_day.values[0])\n",
    "\n",
    "        print(\"Forecasted sales for the next day:\", predicted_value)\n",
    "        sales_prediction[current_product] = predicted_value\n",
    "\n",
    "sales_prediction\n",
    "    "
   ]
  },
  {
   "cell_type": "markdown",
   "id": "879b187e-f972-43b2-a58d-74d2f96e523a",
   "metadata": {},
   "source": [
    "# ARIMA Implementation"
   ]
  },
  {
   "cell_type": "code",
   "execution_count": 305,
   "id": "7949865f-e924-4102-b58d-efc850eaf8fe",
   "metadata": {},
   "outputs": [
    {
     "name": "stdout",
     "output_type": "stream",
     "text": [
      "46305cef-95f3-442b-9280-30535cd84125\n",
      "Forecasted sales for the next day: 59\n",
      "67e3ccbc-1d7f-4af6-85c7-ef5e878a7adb\n"
     ]
    },
    {
     "name": "stderr",
     "output_type": "stream",
     "text": [
      "C:\\Users\\jerri\\anaconda3\\lib\\site-packages\\statsmodels\\tsa\\base\\tsa_model.py:471: ValueWarning: No frequency information was provided, so inferred frequency D will be used.\n",
      "  self._init_dates(dates, freq)\n",
      "C:\\Users\\jerri\\anaconda3\\lib\\site-packages\\statsmodels\\tsa\\base\\tsa_model.py:471: ValueWarning: No frequency information was provided, so inferred frequency D will be used.\n",
      "  self._init_dates(dates, freq)\n",
      "C:\\Users\\jerri\\anaconda3\\lib\\site-packages\\statsmodels\\tsa\\base\\tsa_model.py:471: ValueWarning: No frequency information was provided, so inferred frequency D will be used.\n",
      "  self._init_dates(dates, freq)\n",
      "C:\\Users\\jerri\\anaconda3\\lib\\site-packages\\statsmodels\\tsa\\base\\tsa_model.py:471: ValueWarning: No frequency information was provided, so inferred frequency D will be used.\n",
      "  self._init_dates(dates, freq)\n",
      "C:\\Users\\jerri\\anaconda3\\lib\\site-packages\\statsmodels\\tsa\\base\\tsa_model.py:471: ValueWarning: No frequency information was provided, so inferred frequency D will be used.\n",
      "  self._init_dates(dates, freq)\n",
      "C:\\Users\\jerri\\anaconda3\\lib\\site-packages\\statsmodels\\tsa\\base\\tsa_model.py:471: ValueWarning: No frequency information was provided, so inferred frequency D will be used.\n",
      "  self._init_dates(dates, freq)\n"
     ]
    },
    {
     "name": "stdout",
     "output_type": "stream",
     "text": [
      "Forecasted sales for the next day: 34\n",
      "ac4aa561-03e4-4a19-a43a-b3cf10ac024a\n"
     ]
    },
    {
     "name": "stderr",
     "output_type": "stream",
     "text": [
      "C:\\Users\\jerri\\anaconda3\\lib\\site-packages\\statsmodels\\tsa\\base\\tsa_model.py:471: ValueWarning: No frequency information was provided, so inferred frequency D will be used.\n",
      "  self._init_dates(dates, freq)\n",
      "C:\\Users\\jerri\\anaconda3\\lib\\site-packages\\statsmodels\\tsa\\base\\tsa_model.py:471: ValueWarning: No frequency information was provided, so inferred frequency D will be used.\n",
      "  self._init_dates(dates, freq)\n",
      "C:\\Users\\jerri\\anaconda3\\lib\\site-packages\\statsmodels\\tsa\\base\\tsa_model.py:471: ValueWarning: No frequency information was provided, so inferred frequency D will be used.\n",
      "  self._init_dates(dates, freq)\n",
      "C:\\Users\\jerri\\anaconda3\\lib\\site-packages\\statsmodels\\tsa\\statespace\\sarimax.py:966: UserWarning: Non-stationary starting autoregressive parameters found. Using zeros as starting parameters.\n",
      "  warn('Non-stationary starting autoregressive parameters'\n",
      "C:\\Users\\jerri\\anaconda3\\lib\\site-packages\\statsmodels\\tsa\\statespace\\sarimax.py:978: UserWarning: Non-invertible starting MA parameters found. Using zeros as starting parameters.\n",
      "  warn('Non-invertible starting MA parameters found.'\n",
      "C:\\Users\\jerri\\anaconda3\\lib\\site-packages\\statsmodels\\base\\model.py:604: ConvergenceWarning: Maximum Likelihood optimization failed to converge. Check mle_retvals\n",
      "  warnings.warn(\"Maximum Likelihood optimization failed to \"\n",
      "C:\\Users\\jerri\\anaconda3\\lib\\site-packages\\statsmodels\\tsa\\base\\tsa_model.py:471: ValueWarning: No frequency information was provided, so inferred frequency D will be used.\n",
      "  self._init_dates(dates, freq)\n",
      "C:\\Users\\jerri\\anaconda3\\lib\\site-packages\\statsmodels\\tsa\\base\\tsa_model.py:471: ValueWarning: No frequency information was provided, so inferred frequency D will be used.\n",
      "  self._init_dates(dates, freq)\n",
      "C:\\Users\\jerri\\anaconda3\\lib\\site-packages\\statsmodels\\tsa\\base\\tsa_model.py:471: ValueWarning: No frequency information was provided, so inferred frequency D will be used.\n",
      "  self._init_dates(dates, freq)\n",
      "C:\\Users\\jerri\\anaconda3\\lib\\site-packages\\statsmodels\\tsa\\statespace\\sarimax.py:966: UserWarning: Non-stationary starting autoregressive parameters found. Using zeros as starting parameters.\n",
      "  warn('Non-stationary starting autoregressive parameters'\n",
      "C:\\Users\\jerri\\anaconda3\\lib\\site-packages\\statsmodels\\tsa\\statespace\\sarimax.py:978: UserWarning: Non-invertible starting MA parameters found. Using zeros as starting parameters.\n",
      "  warn('Non-invertible starting MA parameters found.'\n"
     ]
    },
    {
     "name": "stdout",
     "output_type": "stream",
     "text": [
      "Forecasted sales for the next day: 59\n",
      "d0c7cc5e-33ee-427a-8448-43fde52e381d\n"
     ]
    },
    {
     "name": "stderr",
     "output_type": "stream",
     "text": [
      "C:\\Users\\jerri\\anaconda3\\lib\\site-packages\\statsmodels\\base\\model.py:604: ConvergenceWarning: Maximum Likelihood optimization failed to converge. Check mle_retvals\n",
      "  warnings.warn(\"Maximum Likelihood optimization failed to \"\n",
      "C:\\Users\\jerri\\anaconda3\\lib\\site-packages\\statsmodels\\tsa\\base\\tsa_model.py:471: ValueWarning: No frequency information was provided, so inferred frequency D will be used.\n",
      "  self._init_dates(dates, freq)\n",
      "C:\\Users\\jerri\\anaconda3\\lib\\site-packages\\statsmodels\\tsa\\base\\tsa_model.py:471: ValueWarning: No frequency information was provided, so inferred frequency D will be used.\n",
      "  self._init_dates(dates, freq)\n",
      "C:\\Users\\jerri\\anaconda3\\lib\\site-packages\\statsmodels\\tsa\\base\\tsa_model.py:471: ValueWarning: No frequency information was provided, so inferred frequency D will be used.\n",
      "  self._init_dates(dates, freq)\n",
      "C:\\Users\\jerri\\anaconda3\\lib\\site-packages\\statsmodels\\tsa\\statespace\\sarimax.py:978: UserWarning: Non-invertible starting MA parameters found. Using zeros as starting parameters.\n",
      "  warn('Non-invertible starting MA parameters found.'\n"
     ]
    },
    {
     "name": "stdout",
     "output_type": "stream",
     "text": [
      "Forecasted sales for the next day: 95\n",
      "eab5443a-b6a8-4369-893d-f03d2cbfc3bc\n",
      "Forecasted sales for the next day: 42\n"
     ]
    },
    {
     "name": "stderr",
     "output_type": "stream",
     "text": [
      "C:\\Users\\jerri\\anaconda3\\lib\\site-packages\\statsmodels\\base\\model.py:604: ConvergenceWarning: Maximum Likelihood optimization failed to converge. Check mle_retvals\n",
      "  warnings.warn(\"Maximum Likelihood optimization failed to \"\n"
     ]
    },
    {
     "data": {
      "text/plain": [
       "{'46305cef-95f3-442b-9280-30535cd84125': 59,\n",
       " '67e3ccbc-1d7f-4af6-85c7-ef5e878a7adb': 34,\n",
       " 'ac4aa561-03e4-4a19-a43a-b3cf10ac024a': 59,\n",
       " 'd0c7cc5e-33ee-427a-8448-43fde52e381d': 95,\n",
       " 'eab5443a-b6a8-4369-893d-f03d2cbfc3bc': 42}"
      ]
     },
     "execution_count": 305,
     "metadata": {},
     "output_type": "execute_result"
    }
   ],
   "source": [
    "for each in product_dfs:\n",
    "    # ARMA Implementation\n",
    "    if len(each) >= 10:\n",
    "        current_product = each['product_id'].iloc[0]\n",
    "        print(current_product)\n",
    "        temp_df = each[['qty_ordered']].copy()\n",
    "        \n",
    "        #Get PACF for AR Component\n",
    "        pacf, pvalues = sm.tsa.pacf(temp_df['qty_ordered'], nlags=10, alpha=0.05)\n",
    "        ar_lags = get_lagged_value(pacf)\n",
    "        \n",
    "        #Get ACF for MA Component\n",
    "        acf, pvalues = sm.tsa.acf(temp_df['qty_ordered'], nlags=10, alpha=0.05)\n",
    "        ma_lags = get_lagged_value(acf)\n",
    "        \n",
    "        ARIMA_model = sm.tsa.arima.ARIMA(temp_df['qty_ordered'], order=(ar_lags, 1, ma_lags)).fit()\n",
    "\n",
    "        # Predict the next day's sales\n",
    "        forecast_next_day = ARIMA_model.predict(start=len(temp_df['qty_ordered']), end=len(temp_df['qty_ordered']))\n",
    "\n",
    "        # Extract just the predicted value as a int\n",
    "        predicted_value = int(forecast_next_day.values[0])\n",
    "\n",
    "        print(\"Forecasted sales for the next day:\", predicted_value)\n",
    "        sales_prediction[current_product] = predicted_value\n",
    "\n",
    "sales_prediction\n",
    "    "
   ]
  },
  {
   "cell_type": "markdown",
   "metadata": {},
   "source": [
    "# Simple Moving Average"
   ]
  },
  {
   "cell_type": "code",
   "execution_count": 17,
   "metadata": {},
   "outputs": [],
   "source": [
    "# determine the number of days to use as moving value -> 7 days\n",
    "# sort each product data by date (descending) and get the first 7 days in the list\n",
    "def simple_moving_average(product_df):\n",
    "    for each in product_df:\n",
    "        # Simple Moving Average Implementation\n",
    "        if len(each) >= 10:\n",
    "            current_product = each['product_id'].iloc[0]\n",
    "            print(current_product)\n",
    "            temp_df = each[['qty_ordered']].copy()\n",
    "\n",
    "            # Predict the next day's sales\n",
    "            predicted_value = temp_df['qty_ordered'].rolling(window=7).mean().iloc[-1]\n",
    "\n",
    "            # Extract just the predicted value as a int\n",
    "            predicted_value = int(predicted_value)\n",
    "\n",
    "            print(\"Forecasted sales for the next day:\", predicted_value)\n",
    "            sales_prediction[current_product] = predicted_value"
   ]
  },
  {
   "cell_type": "code",
   "execution_count": 18,
   "metadata": {},
   "outputs": [
    {
     "name": "stdout",
     "output_type": "stream",
     "text": [
      "46305cef-95f3-442b-9280-30535cd84125\n",
      "Forecasted sales for the next day: 54\n",
      "67e3ccbc-1d7f-4af6-85c7-ef5e878a7adb\n",
      "Forecasted sales for the next day: 56\n",
      "ac4aa561-03e4-4a19-a43a-b3cf10ac024a\n",
      "Forecasted sales for the next day: 51\n",
      "d0c7cc5e-33ee-427a-8448-43fde52e381d\n",
      "Forecasted sales for the next day: 48\n",
      "eab5443a-b6a8-4369-893d-f03d2cbfc3bc\n",
      "Forecasted sales for the next day: 52\n"
     ]
    }
   ],
   "source": [
    "simple_moving_average(product_dfs)"
   ]
  },
  {
   "cell_type": "markdown",
   "metadata": {},
   "source": [
    "# Weighted Moving Average"
   ]
  },
  {
   "cell_type": "code",
   "execution_count": 19,
   "metadata": {},
   "outputs": [
    {
     "name": "stdout",
     "output_type": "stream",
     "text": [
      "46305cef-95f3-442b-9280-30535cd84125\n",
      "Forecasted sales for the next day: 35\n",
      "67e3ccbc-1d7f-4af6-85c7-ef5e878a7adb\n",
      "Forecasted sales for the next day: 47\n",
      "ac4aa561-03e4-4a19-a43a-b3cf10ac024a\n",
      "Forecasted sales for the next day: 34\n",
      "d0c7cc5e-33ee-427a-8448-43fde52e381d\n",
      "Forecasted sales for the next day: 26\n",
      "eab5443a-b6a8-4369-893d-f03d2cbfc3bc\n",
      "Forecasted sales for the next day: 40\n"
     ]
    }
   ],
   "source": [
    "for each in product_dfs:\n",
    "    if len(each) >= 10:\n",
    "        current_product = each['product_id'].iloc[0]\n",
    "        print(current_product)\n",
    "        temp_df = each[['qty_ordered']].copy()\n",
    "\n",
    "\n",
    "        weighted_average_sum = 0\n",
    "        for i in range(1,7):\n",
    "            weighted_average_sum += (i * temp_df['qty_ordered'].iloc[-i])\n",
    "        predicted_value = weighted_average_sum / 28 # [7(7+1)]/2\n",
    "\n",
    "        predicted_value = int(predicted_value)\n",
    "\n",
    "        print(\"Forecasted sales for the next day:\", predicted_value)\n",
    "        sales_prediction[current_product] = predicted_value"
   ]
  },
  {
   "cell_type": "markdown",
   "metadata": {},
   "source": [
    "# Exponential Moving Average"
   ]
  },
  {
   "cell_type": "code",
   "execution_count": 20,
   "metadata": {},
   "outputs": [
    {
     "name": "stdout",
     "output_type": "stream",
     "text": [
      "46305cef-95f3-442b-9280-30535cd84125\n",
      "Forecasted sales for the next day: 49\n",
      "67e3ccbc-1d7f-4af6-85c7-ef5e878a7adb\n",
      "Forecasted sales for the next day: 62\n",
      "ac4aa561-03e4-4a19-a43a-b3cf10ac024a\n",
      "Forecasted sales for the next day: 49\n",
      "d0c7cc5e-33ee-427a-8448-43fde52e381d\n",
      "Forecasted sales for the next day: 49\n",
      "eab5443a-b6a8-4369-893d-f03d2cbfc3bc\n",
      "Forecasted sales for the next day: 52\n"
     ]
    }
   ],
   "source": [
    "for each in product_dfs:\n",
    "    if len(each) >= 10:\n",
    "        current_product = each['product_id'].iloc[0]\n",
    "        print(current_product)\n",
    "        temp_df = each[['qty_ordered']].copy()\n",
    "\n",
    "        # seting the smoothing factor\n",
    "        alpha = 0.2\n",
    "        \n",
    "        # getting the moving average, while adding the previous value to it\n",
    "        predicted_value = temp_df['qty_ordered'].ewm(alpha=alpha, adjust=False).mean().iloc[-1]\n",
    "\n",
    "        predicted_value = int(predicted_value)\n",
    "\n",
    "        print(\"Forecasted sales for the next day:\", predicted_value)\n",
    "        sales_prediction[current_product] = predicted_value"
   ]
  },
  {
   "cell_type": "markdown",
   "metadata": {},
   "source": [
    "# Triangular Moving Average"
   ]
  },
  {
   "cell_type": "code",
   "execution_count": 21,
   "metadata": {},
   "outputs": [
    {
     "name": "stdout",
     "output_type": "stream",
     "text": [
      "46305cef-95f3-442b-9280-30535cd84125\n",
      "Forecasted sales for the next day: 62\n",
      "67e3ccbc-1d7f-4af6-85c7-ef5e878a7adb\n",
      "Forecasted sales for the next day: 56\n",
      "ac4aa561-03e4-4a19-a43a-b3cf10ac024a\n",
      "Forecasted sales for the next day: 51\n",
      "d0c7cc5e-33ee-427a-8448-43fde52e381d\n",
      "Forecasted sales for the next day: 47\n",
      "eab5443a-b6a8-4369-893d-f03d2cbfc3bc\n",
      "Forecasted sales for the next day: 63\n"
     ]
    }
   ],
   "source": [
    "# taking the moving average of moving average data points\n",
    "\n",
    "for each in product_dfs:\n",
    "    if len(each) >= 10:\n",
    "        current_product = each['product_id'].iloc[0]\n",
    "        print(current_product)\n",
    "        temp_df = each[['qty_ordered']].copy()\n",
    "\n",
    "        # setting the window size for the moving average\n",
    "        window_size = 7\n",
    "\n",
    "        # get the simple moving average of the data\n",
    "        temp_df['simple_ma'] = temp_df['qty_ordered'].rolling(window=window_size).mean()\n",
    "\n",
    "        # get the moving average of each moving average\n",
    "        predicted_value = temp_df['simple_ma'].rolling(window=window_size).mean().iloc[-1]\n",
    "\n",
    "        predicted_value = int(predicted_value)\n",
    "\n",
    "        print(\"Forecasted sales for the next day:\", predicted_value)\n",
    "        sales_prediction[current_product] = predicted_value\n"
   ]
  },
  {
   "cell_type": "markdown",
   "metadata": {},
   "source": [
    "# Volatile Moving Average"
   ]
  },
  {
   "cell_type": "markdown",
   "metadata": {},
   "source": [
    "special form of weighted MA where the weight is calculated with the standard deviation of percent change"
   ]
  },
  {
   "cell_type": "code",
   "execution_count": 29,
   "metadata": {},
   "outputs": [
    {
     "name": "stdout",
     "output_type": "stream",
     "text": [
      "46305cef-95f3-442b-9280-30535cd84125\n",
      "Forecasted sales for the next day: 55\n",
      "67e3ccbc-1d7f-4af6-85c7-ef5e878a7adb\n",
      "Forecasted sales for the next day: 45\n",
      "ac4aa561-03e4-4a19-a43a-b3cf10ac024a\n",
      "Forecasted sales for the next day: 58\n",
      "d0c7cc5e-33ee-427a-8448-43fde52e381d\n",
      "Forecasted sales for the next day: 52\n",
      "eab5443a-b6a8-4369-893d-f03d2cbfc3bc\n",
      "Forecasted sales for the next day: 57\n"
     ]
    }
   ],
   "source": [
    "for each in product_dfs:\n",
    "    if len(each) >= 10:\n",
    "        current_product = each['product_id'].iloc[0]\n",
    "        print(current_product)\n",
    "        temp_df = each[['qty_ordered']].copy()\n",
    "\n",
    "        # set window and alpha values\n",
    "        window_size = 7\n",
    "        alpha = 0.2\n",
    "\n",
    "        # calculate standard deviation\n",
    "        purchase_std = temp_df['qty_ordered'].pct_change().rolling(window=window_size).std()\n",
    "\n",
    "        # calculate and collect most recent weight\n",
    "        weight = alpha / (1 + purchase_std).iloc[-1]\n",
    "\n",
    "        # apply weight to moving average\n",
    "        predicted_value = temp_df['qty_ordered'].ewm(alpha=weight, adjust=False).mean().iloc[-1]\n",
    "\n",
    "        predicted_value = int(predicted_value)\n",
    "\n",
    "        print(\"Forecasted sales for the next day:\", predicted_value)\n",
    "        sales_prediction[current_product] = predicted_value\n"
   ]
  }
 ],
 "metadata": {
  "kernelspec": {
   "display_name": "Python 3 (ipykernel)",
   "language": "python",
   "name": "python3"
  },
  "language_info": {
   "codemirror_mode": {
    "name": "ipython",
    "version": 3
   },
   "file_extension": ".py",
   "mimetype": "text/x-python",
   "name": "python",
   "nbconvert_exporter": "python",
   "pygments_lexer": "ipython3",
   "version": "3.11.4"
  }
 },
 "nbformat": 4,
 "nbformat_minor": 5
}
